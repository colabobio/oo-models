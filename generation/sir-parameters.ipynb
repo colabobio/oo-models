{
 "cells": [
  {
   "cell_type": "code",
   "execution_count": 1,
   "metadata": {},
   "outputs": [],
   "source": [
    "import math\n",
    "from ipywidgets import interactive\n",
    "import matplotlib.pyplot as plt\n",
    "from scipy.integrate import odeint\n",
    "import numpy as np"
   ]
  },
  {
   "cell_type": "code",
   "execution_count": 2,
   "metadata": {},
   "outputs": [],
   "source": [
    "# Fixed parameters\n",
    "N = 21     # Number of participants\n",
    "Tmax = 20  # total duration of the simulaion\n",
    "\n",
    "# Tunable parameters with default values\n",
    "Tinf = Tmax/10 # infectious time\n",
    "I0 = 1         # number of initial cases\n",
    "Itot = 0.8*N   # total number of cases\n",
    "cr = 1/N       # per capita contact rate, \n",
    "               # C = cr x N is the number of contacts per unit of time an infectious individual make"
   ]
  },
  {
   "cell_type": "code",
   "execution_count": 3,
   "metadata": {},
   "outputs": [],
   "source": [
    "# Using SciPy to specify the equations of the SIR model\n",
    "# S'(t) = −beta * I * S\n",
    "# I'(t) = beta * I S − gamma * I\n",
    "# R'(t) = gamma * I\n",
    "# S(0) = S0\n",
    "# I(0) = I0\n",
    "# R(0) = N - S0 - I0 = 0\n",
    "# https://scipython.com/book/chapter-8-scipy/additional-examples/the-sir-epidemic-model/\n",
    "\n",
    "# The SIR model differential equations.\n",
    "def sir_equations(y, t, N, beta, gamma):\n",
    "    S, I, R = y\n",
    "    dSdt = -beta * S * I\n",
    "    dIdt = beta * S * I - gamma * I\n",
    "    dRdt = gamma * I\n",
    "    return dSdt, dIdt, dRdt"
   ]
  },
  {
   "cell_type": "code",
   "execution_count": 5,
   "metadata": {},
   "outputs": [
    {
     "data": {
      "application/vnd.jupyter.widget-view+json": {
       "model_id": "f429fcb2a11c416d86d400a25c9509f9",
       "version_major": 2,
       "version_minor": 0
      },
      "text/plain": [
       "interactive(children=(FloatSlider(value=2.0, description='Tinf', max=10.0, min=1.0), IntSlider(value=1, descri…"
      ]
     },
     "metadata": {},
     "output_type": "display_data"
    }
   ],
   "source": [
    "def plot_fun(Tinf=Tmax/10, I0=1, Itot=0.8*N, C=1):\n",
    "    t = np.linspace(0, Tmax, Tmax)\n",
    "    \n",
    "    S0 = N - I0\n",
    "    R0 = N - I0 - S0\n",
    "    Send = N - Itot\n",
    "\n",
    "    # z is gamma/beta\n",
    "    z = Itot/math.log(S0/Send)\n",
    "\n",
    "    BRN = S0/z\n",
    "    print(\"Basic reproductive number =\", BRN)\n",
    "\n",
    "    Imax = N - z + z * math.log(z) - z * math.log(S0)\n",
    "    print(\"Number of infections at the peak of outbreak =\", Imax)\n",
    "\n",
    "    gamma = 1/Tinf\n",
    "    beta = gamma/z\n",
    "    print(\"Transmission rate constant =\", beta)\n",
    "\n",
    "    cr = C/N\n",
    "    p = beta/cr  # probability that a contact with a susceptible individual results in transmission\n",
    "    print(\"Probability of infection per unit of time =\", p)\n",
    "\n",
    "    # Initial conditions vector\n",
    "    y0 = S0, I0, R0\n",
    "    # Integrate the SIR equations over the time grid, t.\n",
    "    ret = odeint(sir_equations, y0, t, args=(N, beta, gamma))\n",
    "    S, I, R = ret.T\n",
    "\n",
    "    # Plot the data on three separate curves for S(t), I(t) and R(t)\n",
    "    fig, ax = plt.subplots(figsize=(10, 8))\n",
    "    ax.plot(t, S, 'b', alpha=0.5, lw=2, label='Susceptible')\n",
    "    ax.plot(t, I, 'r', alpha=0.5, lw=2, label='Infected')\n",
    "    ax.plot(t, R, 'g', alpha=0.5, lw=2, label='Removed')\n",
    "    ax.set_xlabel('Minutes')\n",
    "    ax.set_ylabel('Number')\n",
    "    ax.set_ylim(0, N)\n",
    "    ax.yaxis.set_tick_params(length=0)\n",
    "    ax.xaxis.set_tick_params(length=0)\n",
    "    ax.grid(visible=True, which='major', c='w', lw=2, ls='-')\n",
    "    legend = ax.legend()\n",
    "    legend.get_frame().set_alpha(0.5)\n",
    "    plt.show()\n",
    "\n",
    "interactive_plot = interactive(plot_fun, Tinf=(1.0, Tmax/2), I0=(1, int(N/10)), Itot=(1, N-1), C=(1, 10))\n",
    "output = interactive_plot.children[-1]\n",
    "output.layout.height = '700px'\n",
    "interactive_plot"
   ]
  }
 ],
 "metadata": {
  "kernelspec": {
   "display_name": "Python 3 (ipykernel)",
   "language": "python",
   "name": "python3"
  },
  "language_info": {
   "codemirror_mode": {
    "name": "ipython",
    "version": 3
   },
   "file_extension": ".py",
   "mimetype": "text/x-python",
   "name": "python",
   "nbconvert_exporter": "python",
   "pygments_lexer": "ipython3",
   "version": "3.9.12"
  }
 },
 "nbformat": 4,
 "nbformat_minor": 4
}
